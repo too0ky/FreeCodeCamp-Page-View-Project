{
 "cells": [
  {
   "cell_type": "code",
   "execution_count": 1,
   "metadata": {},
   "outputs": [],
   "source": [
    "import pandas as pd\n",
    "import matplotlib.pyplot as plt\n",
    "import numpy as np\n",
    "import seaborn as sns\n",
    "%matplotlib inline"
   ]
  },
  {
   "cell_type": "code",
   "execution_count": 2,
   "metadata": {},
   "outputs": [],
   "source": [
    "df = pd.read_csv(r'C:\\Users\\HP\\Desktop\\Python Projects\\boilerplate-page-view-time-series-visualizer\\fcc-forum-pageviews.csv', )"
   ]
  },
  {
   "cell_type": "code",
   "execution_count": 3,
   "metadata": {},
   "outputs": [
    {
     "data": {
      "text/plain": [
       "<bound method DataFrame.info of             date   value\n",
       "0     2016-05-09    1201\n",
       "1     2016-05-10    2329\n",
       "2     2016-05-11    1716\n",
       "3     2016-05-12   10539\n",
       "4     2016-05-13    6933\n",
       "...          ...     ...\n",
       "1299  2019-11-29  171584\n",
       "1300  2019-11-30  141161\n",
       "1301  2019-12-01  142918\n",
       "1302  2019-12-02  220144\n",
       "1303  2019-12-03  158549\n",
       "\n",
       "[1304 rows x 2 columns]>"
      ]
     },
     "execution_count": 3,
     "metadata": {},
     "output_type": "execute_result"
    }
   ],
   "source": [
    "# Learned about df.info which gives you the .head and .tail and also the .shape! \n",
    "#https://www.pluralsight.com/guides/cleaning-up-data-from-outliers\n",
    "df.info"
   ]
  },
  {
   "cell_type": "code",
   "execution_count": 4,
   "metadata": {},
   "outputs": [
    {
     "data": {
      "text/html": [
       "<div>\n",
       "<style scoped>\n",
       "    .dataframe tbody tr th:only-of-type {\n",
       "        vertical-align: middle;\n",
       "    }\n",
       "\n",
       "    .dataframe tbody tr th {\n",
       "        vertical-align: top;\n",
       "    }\n",
       "\n",
       "    .dataframe thead th {\n",
       "        text-align: right;\n",
       "    }\n",
       "</style>\n",
       "<table border=\"1\" class=\"dataframe\">\n",
       "  <thead>\n",
       "    <tr style=\"text-align: right;\">\n",
       "      <th></th>\n",
       "      <th>value</th>\n",
       "    </tr>\n",
       "  </thead>\n",
       "  <tbody>\n",
       "    <tr>\n",
       "      <th>count</th>\n",
       "      <td>1.304000e+03</td>\n",
       "    </tr>\n",
       "    <tr>\n",
       "      <th>mean</th>\n",
       "      <td>6.722068e+04</td>\n",
       "    </tr>\n",
       "    <tr>\n",
       "      <th>std</th>\n",
       "      <td>5.933964e+04</td>\n",
       "    </tr>\n",
       "    <tr>\n",
       "      <th>min</th>\n",
       "      <td>1.201000e+03</td>\n",
       "    </tr>\n",
       "    <tr>\n",
       "      <th>25%</th>\n",
       "      <td>3.575775e+04</td>\n",
       "    </tr>\n",
       "    <tr>\n",
       "      <th>50%</th>\n",
       "      <td>5.719750e+04</td>\n",
       "    </tr>\n",
       "    <tr>\n",
       "      <th>75%</th>\n",
       "      <td>8.388300e+04</td>\n",
       "    </tr>\n",
       "    <tr>\n",
       "      <th>max</th>\n",
       "      <td>1.173655e+06</td>\n",
       "    </tr>\n",
       "  </tbody>\n",
       "</table>\n",
       "</div>"
      ],
      "text/plain": [
       "              value\n",
       "count  1.304000e+03\n",
       "mean   6.722068e+04\n",
       "std    5.933964e+04\n",
       "min    1.201000e+03\n",
       "25%    3.575775e+04\n",
       "50%    5.719750e+04\n",
       "75%    8.388300e+04\n",
       "max    1.173655e+06"
      ]
     },
     "execution_count": 4,
     "metadata": {},
     "output_type": "execute_result"
    }
   ],
   "source": [
    "df.describe()"
   ]
  },
  {
   "cell_type": "code",
   "execution_count": 5,
   "metadata": {},
   "outputs": [],
   "source": [
    "# Need to clean up the date. 1st attempt # With this, we would then have to further remove the NaN\n",
    "df= df[(df['value'] >= (df['value'].quantile(0.025))) &\n",
    "    (df['value'] <= (df['value'].quantile(0.975)))]"
   ]
  },
  {
   "cell_type": "code",
   "execution_count": 6,
   "metadata": {},
   "outputs": [
    {
     "data": {
      "text/plain": [
       "<bound method DataFrame.info of             date   value\n",
       "10    2016-05-19   19736\n",
       "17    2016-05-26   18060\n",
       "18    2016-05-27   19997\n",
       "19    2016-05-28   19044\n",
       "20    2016-05-29   20325\n",
       "...          ...     ...\n",
       "1294  2019-11-24  138875\n",
       "1299  2019-11-29  171584\n",
       "1300  2019-11-30  141161\n",
       "1301  2019-12-01  142918\n",
       "1303  2019-12-03  158549\n",
       "\n",
       "[1238 rows x 2 columns]>"
      ]
     },
     "execution_count": 6,
     "metadata": {},
     "output_type": "execute_result"
    }
   ],
   "source": [
    "# Check the data. It looks like we have to remove/replace the NaN \n",
    "\n",
    "df.info"
   ]
  },
  {
   "cell_type": "code",
   "execution_count": 7,
   "metadata": {},
   "outputs": [
    {
     "data": {
      "text/html": [
       "<div>\n",
       "<style scoped>\n",
       "    .dataframe tbody tr th:only-of-type {\n",
       "        vertical-align: middle;\n",
       "    }\n",
       "\n",
       "    .dataframe tbody tr th {\n",
       "        vertical-align: top;\n",
       "    }\n",
       "\n",
       "    .dataframe thead th {\n",
       "        text-align: right;\n",
       "    }\n",
       "</style>\n",
       "<table border=\"1\" class=\"dataframe\">\n",
       "  <thead>\n",
       "    <tr style=\"text-align: right;\">\n",
       "      <th></th>\n",
       "      <th>date</th>\n",
       "      <th>value</th>\n",
       "    </tr>\n",
       "  </thead>\n",
       "  <tbody>\n",
       "    <tr>\n",
       "      <th>10</th>\n",
       "      <td>2016-05-19</td>\n",
       "      <td>19736</td>\n",
       "    </tr>\n",
       "    <tr>\n",
       "      <th>17</th>\n",
       "      <td>2016-05-26</td>\n",
       "      <td>18060</td>\n",
       "    </tr>\n",
       "    <tr>\n",
       "      <th>18</th>\n",
       "      <td>2016-05-27</td>\n",
       "      <td>19997</td>\n",
       "    </tr>\n",
       "    <tr>\n",
       "      <th>19</th>\n",
       "      <td>2016-05-28</td>\n",
       "      <td>19044</td>\n",
       "    </tr>\n",
       "    <tr>\n",
       "      <th>20</th>\n",
       "      <td>2016-05-29</td>\n",
       "      <td>20325</td>\n",
       "    </tr>\n",
       "  </tbody>\n",
       "</table>\n",
       "</div>"
      ],
      "text/plain": [
       "          date  value\n",
       "10  2016-05-19  19736\n",
       "17  2016-05-26  18060\n",
       "18  2016-05-27  19997\n",
       "19  2016-05-28  19044\n",
       "20  2016-05-29  20325"
      ]
     },
     "execution_count": 7,
     "metadata": {},
     "output_type": "execute_result"
    }
   ],
   "source": [
    "df.head()"
   ]
  },
  {
   "cell_type": "code",
   "execution_count": 8,
   "metadata": {},
   "outputs": [
    {
     "data": {
      "text/html": [
       "<div>\n",
       "<style scoped>\n",
       "    .dataframe tbody tr th:only-of-type {\n",
       "        vertical-align: middle;\n",
       "    }\n",
       "\n",
       "    .dataframe tbody tr th {\n",
       "        vertical-align: top;\n",
       "    }\n",
       "\n",
       "    .dataframe thead th {\n",
       "        text-align: right;\n",
       "    }\n",
       "</style>\n",
       "<table border=\"1\" class=\"dataframe\">\n",
       "  <thead>\n",
       "    <tr style=\"text-align: right;\">\n",
       "      <th></th>\n",
       "      <th>value</th>\n",
       "    </tr>\n",
       "  </thead>\n",
       "  <tbody>\n",
       "    <tr>\n",
       "      <th>count</th>\n",
       "      <td>1238.000000</td>\n",
       "    </tr>\n",
       "    <tr>\n",
       "      <th>mean</th>\n",
       "      <td>63060.147819</td>\n",
       "    </tr>\n",
       "    <tr>\n",
       "      <th>std</th>\n",
       "      <td>31674.626598</td>\n",
       "    </tr>\n",
       "    <tr>\n",
       "      <th>min</th>\n",
       "      <td>18060.000000</td>\n",
       "    </tr>\n",
       "    <tr>\n",
       "      <th>25%</th>\n",
       "      <td>37244.250000</td>\n",
       "    </tr>\n",
       "    <tr>\n",
       "      <th>50%</th>\n",
       "      <td>57197.500000</td>\n",
       "    </tr>\n",
       "    <tr>\n",
       "      <th>75%</th>\n",
       "      <td>81646.500000</td>\n",
       "    </tr>\n",
       "    <tr>\n",
       "      <th>max</th>\n",
       "      <td>177588.000000</td>\n",
       "    </tr>\n",
       "  </tbody>\n",
       "</table>\n",
       "</div>"
      ],
      "text/plain": [
       "               value\n",
       "count    1238.000000\n",
       "mean    63060.147819\n",
       "std     31674.626598\n",
       "min     18060.000000\n",
       "25%     37244.250000\n",
       "50%     57197.500000\n",
       "75%     81646.500000\n",
       "max    177588.000000"
      ]
     },
     "execution_count": 8,
     "metadata": {},
     "output_type": "execute_result"
    }
   ],
   "source": [
    "df.describe()"
   ]
  },
  {
   "cell_type": "code",
   "execution_count": 9,
   "metadata": {},
   "outputs": [
    {
     "data": {
      "text/plain": [
       "Index(['date', 'value'], dtype='object')"
      ]
     },
     "execution_count": 9,
     "metadata": {},
     "output_type": "execute_result"
    }
   ],
   "source": [
    "df.columns\n"
   ]
  },
  {
   "cell_type": "code",
   "execution_count": 10,
   "metadata": {},
   "outputs": [
    {
     "data": {
      "text/plain": [
       "date     object\n",
       "value     int64\n",
       "dtype: object"
      ]
     },
     "execution_count": 10,
     "metadata": {},
     "output_type": "execute_result"
    }
   ],
   "source": [
    "df.dtypes"
   ]
  },
  {
   "cell_type": "code",
   "execution_count": 11,
   "metadata": {},
   "outputs": [],
   "source": [
    "# Learned about IQR\n",
    "# https://stackoverflow.com/questions/35827863/remove-outliers-in-pandas-dataframe-using-percentiles\n",
    "# Further explaination of Interquartile Range (IQR): https://www.pluralsight.com/guides/cleaning-up-data-from-outliers\n",
    "\n",
    "#Q1 = df.quantile(0.25)\n",
    "#Q3 = df.quantile(0.75)\n",
    "#IQR = Q3 - Q1\n",
    "\n",
    "#df_clean = df[~((df < (Q1 - 1.5 * IQR)) |(df > (Q3 + 1.5 * IQR))).any(axis=1)]"
   ]
  },
  {
   "cell_type": "code",
   "execution_count": 12,
   "metadata": {},
   "outputs": [],
   "source": [
    "# Need to turn 'date' into a column, if we set index_col=1\n",
    "#df= df.reset_index()"
   ]
  },
  {
   "cell_type": "code",
   "execution_count": 14,
   "metadata": {},
   "outputs": [
    {
     "data": {
      "image/png": "[encoded data removed]",
      "text/plain": [
       "<Figure size 432x288 with 1 Axes>"
      ]
     },
     "metadata": {
      "needs_background": "light"
     },
     "output_type": "display_data"
    }
   ],
   "source": [
    "# Neet to plot a line plot\n",
    "#https://realpython.com/pandas-plot-python/\n",
    "#https://stackoverflow.com/questions/21487329/add-x-and-y-labels-to-a-pandas-plot\n",
    "\n",
    "x = df['date']\n",
    "y = df['value']\n",
    "\n",
    "line_plot = sns.lineplot(data = df, x = 'date', y = 'value').set(title='Daily freeCodeCamp Forum Page Views 5/2016-12/2019', xlabel='Date', ylabel='Page Views')\n",
    "\n",
    "\n",
    "\n",
    "#line_plot.set_xlabel('Date')\n",
    "#line_plot.set_ylabel('Page View')\n",
    "\n"
   ]
  },
  {
   "cell_type": "code",
   "execution_count": null,
   "metadata": {},
   "outputs": [],
   "source": [
    "# Create a columns of months --- need to split / groupby data by month \n",
    "\n",
    "# Clean up the data: make sure it is ready to be split\n",
    "\n"
   ]
  },
  {
   "cell_type": "code",
   "execution_count": null,
   "metadata": {},
   "outputs": [],
   "source": [
    "df.head()"
   ]
  },
  {
   "cell_type": "code",
   "execution_count": null,
   "metadata": {},
   "outputs": [],
   "source": [
    "# Need to convert to datetime, currently 'date' is an object\n",
    "#https://stackoverflow.com/questions/24082784/pandas-dataframe-groupby-datetime-month\n",
    "\n",
    "df['date'] = pd.to_datetime(df['date'], format='%Y-%m-%d')\n",
    "\n",
    "\n",
    "# not sure why, but df['date'] is NOT permanently changed\n",
    "# Had to read https://realpython.com/pandas-settingwithcopywarning/ to learn about 'views' versus 'copy'\n",
    "#https://stackoverflow.com/questions/20625582/how-to-deal-with-settingwithcopywarning-in-pandas"
   ]
  },
  {
   "cell_type": "code",
   "execution_count": null,
   "metadata": {},
   "outputs": [],
   "source": [
    "df.dtypes"
   ]
  },
  {
   "cell_type": "code",
   "execution_count": null,
   "metadata": {},
   "outputs": [],
   "source": [
    "# Let's create columns with month and year value using dt.month/dt.year\n",
    "df['month'] = df['date'].dt.month\n",
    "df['year'] = df['date'].dt.year"
   ]
  },
  {
   "cell_type": "code",
   "execution_count": null,
   "metadata": {},
   "outputs": [],
   "source": [
    "df.head()"
   ]
  },
  {
   "cell_type": "code",
   "execution_count": null,
   "metadata": {},
   "outputs": [],
   "source": [
    "df.dtypes"
   ]
  },
  {
   "cell_type": "code",
   "execution_count": null,
   "metadata": {},
   "outputs": [],
   "source": [
    "df.info"
   ]
  },
  {
   "cell_type": "code",
   "execution_count": null,
   "metadata": {},
   "outputs": [],
   "source": [
    "# Count the total of NaN in our dataset using .isna\n",
    "\n",
    "df.isna().sum()"
   ]
  },
  {
   "cell_type": "code",
   "execution_count": null,
   "metadata": {},
   "outputs": [],
   "source": [
    "# Remove the NaN rows using .dropna()\n",
    "df = df.dropna()"
   ]
  },
  {
   "cell_type": "code",
   "execution_count": null,
   "metadata": {},
   "outputs": [],
   "source": [
    "df.isna().sum()"
   ]
  },
  {
   "cell_type": "code",
   "execution_count": null,
   "metadata": {},
   "outputs": [],
   "source": [
    "# Convert 'value', 'month', 'year' into int \n",
    "df[['value', 'month', 'year']] = df[['value', 'month', 'year']].astype(int)"
   ]
  },
  {
   "cell_type": "code",
   "execution_count": null,
   "metadata": {},
   "outputs": [],
   "source": [
    "df.dtypes"
   ]
  },
  {
   "cell_type": "code",
   "execution_count": null,
   "metadata": {},
   "outputs": [],
   "source": [
    "df.info"
   ]
  },
  {
   "cell_type": "code",
   "execution_count": null,
   "metadata": {},
   "outputs": [],
   "source": [
    "# Need to understand groupby: down a rabbit hole---: https://towardsdatascience.com/its-time-for-you-to-understand-pandas-group-by-function-cc12f7decfb9\n",
    "# Straight to the point: https://www.w3resource.com/python-exercises/pandas/groupby/python-pandas-groupby-exercise-12.php\n",
    "        \n",
    "df_group = df.groupby([df['date'].dt.year, df['date'].dt.month]).agg({'value':'mean'})"
   ]
  },
  {
   "cell_type": "code",
   "execution_count": null,
   "metadata": {},
   "outputs": [],
   "source": [
    "df_group.info"
   ]
  },
  {
   "cell_type": "code",
   "execution_count": null,
   "metadata": {},
   "outputs": [],
   "source": [
    "# Need to rename the index values \n",
    "# https://stackoverflow.com/questions/20110170/turn-pandas-multi-index-into-column#:~:text=The%20reset_index()%20is%20a,the%20index%20values%20as%20columns).&text=3%200%2034-,df.,cannot%20have%20the%20same%20names.\n",
    "# Use df.index.sex_names\n",
    "\n",
    "df_group.index = df_group.index.set_names(['year', 'month'])"
   ]
  },
  {
   "cell_type": "code",
   "execution_count": null,
   "metadata": {},
   "outputs": [],
   "source": [
    "# Need to set the index values as columns\n",
    "# Use df.reset_index(inplace = True)\n",
    "\n",
    "df_group.reset_index(inplace=True)  "
   ]
  },
  {
   "cell_type": "code",
   "execution_count": null,
   "metadata": {},
   "outputs": [],
   "source": [
    "df_group.columns"
   ]
  },
  {
   "cell_type": "code",
   "execution_count": null,
   "metadata": {},
   "outputs": [],
   "source": [
    "df_group.head()"
   ]
  },
  {
   "cell_type": "code",
   "execution_count": null,
   "metadata": {},
   "outputs": [],
   "source": [
    "df_group.describe()"
   ]
  },
  {
   "cell_type": "code",
   "execution_count": null,
   "metadata": {},
   "outputs": [],
   "source": [
    "# Need to put df_group['month'] in numerical order\n",
    "\n",
    "df_group = df_group.sort_values(by=['month'])\n"
   ]
  },
  {
   "cell_type": "code",
   "execution_count": null,
   "metadata": {},
   "outputs": [],
   "source": [
    "# Need to convert month 'int' to 'str' using dt.month_name()\n",
    "# https://stackoverflow.com/questions/37625334/python-pandas-convert-month-int-to-month-name/54350093\n",
    "\n",
    "df_group['month'] = pd.to_datetime(df_group['month'], format='%m').dt.month_name().str.slice(stop=3)"
   ]
  },
  {
   "cell_type": "code",
   "execution_count": null,
   "metadata": {},
   "outputs": [],
   "source": [
    "df_group.info"
   ]
  },
  {
   "cell_type": "code",
   "execution_count": null,
   "metadata": {},
   "outputs": [],
   "source": [
    "df_group.head()"
   ]
  },
  {
   "cell_type": "code",
   "execution_count": null,
   "metadata": {},
   "outputs": [],
   "source": [
    "g = sns.catplot(\n",
    "    x='year', y='value', data = df_group,\n",
    "    kind = 'bar', hue='month'\n",
    ")\n",
    "\n",
    "g.set(xlabel = 'Years')\n",
    "g.set(ylabel = 'Average Page View')\n",
    "g.add_legend(title = 'Months') "
   ]
  },
  {
   "cell_type": "code",
   "execution_count": null,
   "metadata": {},
   "outputs": [],
   "source": [
    "df.head()\n"
   ]
  },
  {
   "cell_type": "code",
   "execution_count": null,
   "metadata": {},
   "outputs": [],
   "source": [
    "sns.boxplot(x=\"month\", y=\"value\", data=df)\n",
    " "
   ]
  },
  {
   "cell_type": "code",
   "execution_count": null,
   "metadata": {},
   "outputs": [],
   "source": [
    "ax = sns.boxplot(x=\"year\", y=\"value\", data=df) \n"
   ]
  },
  {
   "cell_type": "code",
   "execution_count": null,
   "metadata": {},
   "outputs": [],
   "source": [
    "df_box = df.copy()\n",
    "df_box.reset_index(inplace=True)\n",
    "df_box['year'] = [d.year for d in df_box.date]\n",
    "df_box['month'] = [d.strftime('%b') for d in df_box.date]"
   ]
  },
  {
   "cell_type": "code",
   "execution_count": null,
   "metadata": {},
   "outputs": [],
   "source": [
    "# Let's combine the boxplots\n",
    "\n",
    "f, axes = plt.subplots(figsize=(12, 7), ncols=2, sharex=False)\n",
    "sns.despine(left=True)\n",
    "\n",
    "ax2 = sns.boxplot(x='year', y='value', data=df, ax=axes[0])\n",
    "ax2.set_xlabel('Year')\n",
    "ax2.set_ylabel('Page Views')\n",
    "ax2.set_title('Year-wise Box Plot(Trend)')\n",
    "\n",
    "ax2 = sns.boxplot(x='month', y='value', data=df, ax=axes[1])\n",
    "ax2.set_xlabel('Month')\n",
    "ax2.set_ylabel('Page Views')\n",
    "ax2.set_title('Month-wise Box Plot(Seasonality)')"
   ]
  },
  {
   "cell_type": "code",
   "execution_count": null,
   "metadata": {},
   "outputs": [],
   "source": []
  }
 ],
 "metadata": {
  "kernelspec": {
   "display_name": "Python 3",
   "language": "python",
   "name": "python3"
  },
  "language_info": {
   "codemirror_mode": {
    "name": "ipython",
    "version": 3
   },
   "file_extension": ".py",
   "mimetype": "text/x-python",
   "name": "python",
   "nbconvert_exporter": "python",
   "pygments_lexer": "ipython3",
   "version": "3.8.6"
  }
 },
 "nbformat": 4,
 "nbformat_minor": 4
}
